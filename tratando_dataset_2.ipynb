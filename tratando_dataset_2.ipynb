{
 "cells": [
  {
   "cell_type": "markdown",
   "metadata": {},
   "source": [
    "|Variable|Variável     |Definição\t                              |Chave                                         |\n",
    "|--------|-------------|------------------------------------------|----------------------------------------------|\n",
    "|survival|sobrevivência|Sobrevivência                             |0 = Não, 1 = Sim                              |\n",
    "|pclass  |pclass\t   |Classe de ingresso                        |1 = 1º, 2 = 2º, 3 = 3º                        |\n",
    "|ex      |sexo         |Sexo                                      |                                              |\n",
    "|Age     |Idade em anos| -                                        |                                              |\n",
    "|sibsp   |sibsp        |Nº de irmãos / cônjuges a bordo do Titanic|\t                                             |\n",
    "|parch   |pergaminho   |Nº de pais / filhos a bordo do Titanic    |                                              |\n",
    "|ticket  |bilhete      |Número do bilhete\t                      |                                              |\n",
    "|fare    |tarifa       |Tarifa de passageiro                      |\t                                             |\n",
    "|cabin   |cabine       |Número da cabine\t                      |                                              |\n",
    "|embarked|embarcou     |Porto de embarcação                       |C = Cherbourg, Q = Queenstown, S = Southampton|"
   ]
  },
  {
   "cell_type": "code",
   "execution_count": 1,
   "metadata": {},
   "outputs": [],
   "source": [
    "import warnings\n",
    "warnings.filterwarnings('ignore')\n",
    "\n",
    "import numpy as np\n",
    "import pandas as pd\n",
    "import seaborn as sns\n",
    "import matplotlib.pyplot as plt\n",
    "from collections import Counter"
   ]
  },
  {
   "cell_type": "code",
   "execution_count": 39,
   "metadata": {},
   "outputs": [],
   "source": [
    "train = pd.read_csv('dataset/train.csv')\n",
    "test = pd.read_csv('dataset/test.csv')"
   ]
  },
  {
   "cell_type": "code",
   "execution_count": 28,
   "metadata": {},
   "outputs": [],
   "source": [
    "# Convertendo em binario\n",
    "transf = {\"male\": 0, \"female\": 1}\n",
    "\n",
    "train['Sex_bin'] = train['Sex'].map(transf)\n",
    "test['Sex_bin'] = test['Sex'].map(transf)"
   ]
  },
  {
   "cell_type": "code",
   "execution_count": 29,
   "metadata": {},
   "outputs": [],
   "source": [
    "# Convertendo ticket para numeric\n",
    "train['Ticket'] = train['Ticket'].str.replace(r'\\D', '')\n",
    "train['Ticket'] = pd.to_numeric(train['Ticket'])"
   ]
  },
  {
   "cell_type": "code",
   "execution_count": 34,
   "metadata": {},
   "outputs": [],
   "source": [
    "train[train['Embarked'].isna()] = \"S\"\n",
    "\n",
    "cab = {\"S\":0, \"C\":1, \"Q\":2}\n",
    "train['Embarked'] = train['Embarked'].map(cab).astype(int)\n",
    "test['Embarked'] = test['Embarked'].map(cab).astype(int)"
   ]
  },
  {
   "cell_type": "code",
   "execution_count": 36,
   "metadata": {},
   "outputs": [],
   "source": [
    "df = train.rename(columns={'SibSp':'ir/conj', 'Parch':'pais/filhos'})"
   ]
  },
  {
   "cell_type": "code",
   "execution_count": 37,
   "metadata": {},
   "outputs": [
    {
     "data": {
      "text/plain": [
       "Embarked\n",
       "0    646\n",
       "1    168\n",
       "2     77\n",
       "Name: Embarked, dtype: int64"
      ]
     },
     "execution_count": 37,
     "metadata": {},
     "output_type": "execute_result"
    }
   ],
   "source": [
    "df.groupby('Embarked')['Embarked'].count()"
   ]
  },
  {
   "cell_type": "code",
   "execution_count": 38,
   "metadata": {},
   "outputs": [
    {
     "data": {
      "text/plain": [
       "<matplotlib.axes._subplots.AxesSubplot at 0x7fd86a864750>"
      ]
     },
     "execution_count": 38,
     "metadata": {},
     "output_type": "execute_result"
    },
    {
     "data": {
      "image/png": "[encoded data removed]",
      "text/plain": [
       "<Figure size 432x288 with 1 Axes>"
      ]
     },
     "metadata": {
      "needs_background": "light"
     },
     "output_type": "display_data"
    }
   ],
   "source": [
    "df['Embarked'].hist()"
   ]
  }
 ],
 "metadata": {
  "kernelspec": {
   "display_name": "Python 3",
   "language": "python",
   "name": "python3"
  },
  "language_info": {
   "codemirror_mode": {
    "name": "ipython",
    "version": 3
   },
   "file_extension": ".py",
   "mimetype": "text/x-python",
   "name": "python",
   "nbconvert_exporter": "python",
   "pygments_lexer": "ipython3",
   "version": "3.7.4"
  }
 },
 "nbformat": 4,
 "nbformat_minor": 2
}
